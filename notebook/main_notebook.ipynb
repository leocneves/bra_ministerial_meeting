{
 "cells": [
  {
   "cell_type": "code",
   "execution_count": 139,
   "metadata": {},
   "outputs": [],
   "source": [
    "import pandas as pd\n",
    "import numpy as np\n",
    "import scipy\n",
    "import spacy\n",
    "from collections import Counter\n",
    "import unidecode\n",
    "import matplotlib.pyplot as plt\n",
    "import seaborn as sn\n",
    "from IPython.display import display\n",
    "from IPython.display import HTML\n",
    "import IPython.core.display as di # Example: di.display_html('<h3>%s:</h3>' % str, raw=True)\n",
    "from nltk.corpus import stopwords\n",
    "import nltk"
   ]
  },
  {
   "cell_type": "code",
   "execution_count": 5,
   "metadata": {},
   "outputs": [
    {
     "data": {
      "text/html": [
       "<script>\n",
       "code_show=true; \n",
       "function code_toggle() {\n",
       " if (code_show){\n",
       " $('div.input').hide();\n",
       " } else {\n",
       " $('div.input').show();\n",
       " }\n",
       " code_show = !code_show\n",
       "} \n",
       "$( document ).ready(code_toggle);\n",
       "</script>\n",
       "<form action=\"javascript:code_toggle()\"><input type=\"submit\" value=\"ON/OFF code\"></form>"
      ],
      "text/plain": [
       "<IPython.core.display.HTML object>"
      ]
     },
     "execution_count": 5,
     "metadata": {},
     "output_type": "execute_result"
    }
   ],
   "source": [
    "HTML('''<script>\n",
    "code_show=true; \n",
    "function code_toggle() {\n",
    " if (code_show){\n",
    " $('div.input').hide();\n",
    " } else {\n",
    " $('div.input').show();\n",
    " }\n",
    " code_show = !code_show\n",
    "} \n",
    "$( document ).ready(code_toggle);\n",
    "</script>\n",
    "<form action=\"javascript:code_toggle()\"><input type=\"submit\" value=\"ON/OFF code\"></form>''')"
   ]
  },
  {
   "cell_type": "code",
   "execution_count": 60,
   "metadata": {},
   "outputs": [],
   "source": [
    "# Importing teh dataset\n",
    "df = pd.read_csv('../dataset/reuniao_ministerial.csv', dtype=str)\n",
    "\n",
    "# Some transformations (strings to phrases and time to seconds)\n",
    "df['time'] = df['time'].astype(str)\n",
    "df['seconds'] = pd.TimedeltaIndex(df['time'].str.split(':').apply(lambda x: int(x[0])*60 + int(x[1])), unit='s')\n",
    "df['text'] = df['text'].astype(str)"
   ]
  },
  {
   "cell_type": "markdown",
   "metadata": {},
   "source": [
    "## Exploratory Data Analysis from Brazilian's Ministerial Meeting"
   ]
  },
  {
   "cell_type": "markdown",
   "metadata": {},
   "source": [
    "***\n",
    "\n",
    "    The focus of this work is to explore the transcribed audio from the recently announced video about one of brazilian's Ministerial Meeting that came to public within judicial order.\n",
    "\n",
    "1. [Knowing Dataset](#1.-Knowing-dataset)\n",
    "2. [Exploring Textual Data](#2.-Exploring-textual-data)\n",
    "\n",
    "\n",
    "***"
   ]
  },
  {
   "cell_type": "markdown",
   "metadata": {},
   "source": [
    "### 1. Knowing dataset\n",
    "***\n",
    "\n",
    "For first let's see how the dataset is organized with looking for:\n",
    "\n",
    "* Types of variables;\n",
    "* Some counts\n",
    "* Total time of transcribed audio\n",
    "\n",
    "***"
   ]
  },
  {
   "cell_type": "markdown",
   "metadata": {},
   "source": [
    "* 5 first lines, types of columns, how many rows has null values and total od video time"
   ]
  },
  {
   "cell_type": "code",
   "execution_count": 95,
   "metadata": {},
   "outputs": [
    {
     "data": {
      "text/html": [
       "<div>\n",
       "<style scoped>\n",
       "    .dataframe tbody tr th:only-of-type {\n",
       "        vertical-align: middle;\n",
       "    }\n",
       "\n",
       "    .dataframe tbody tr th {\n",
       "        vertical-align: top;\n",
       "    }\n",
       "\n",
       "    .dataframe thead th {\n",
       "        text-align: right;\n",
       "    }\n",
       "</style>\n",
       "<table border=\"1\" class=\"dataframe\">\n",
       "  <thead>\n",
       "    <tr style=\"text-align: right;\">\n",
       "      <th></th>\n",
       "      <th>time</th>\n",
       "      <th>text</th>\n",
       "      <th>seconds</th>\n",
       "    </tr>\n",
       "  </thead>\n",
       "  <tbody>\n",
       "    <tr>\n",
       "      <th>0</th>\n",
       "      <td>00:00</td>\n",
       "      <td>e aí</td>\n",
       "      <td>00:00:00</td>\n",
       "    </tr>\n",
       "    <tr>\n",
       "      <th>1</th>\n",
       "      <td>00:03</td>\n",
       "      <td>o som</td>\n",
       "      <td>00:00:03</td>\n",
       "    </tr>\n",
       "    <tr>\n",
       "      <th>2</th>\n",
       "      <td>00:20</td>\n",
       "      <td>g1</td>\n",
       "      <td>00:00:20</td>\n",
       "    </tr>\n",
       "    <tr>\n",
       "      <th>3</th>\n",
       "      <td>00:23</td>\n",
       "      <td>é porque nós vamos apresentar isso a</td>\n",
       "      <td>00:00:23</td>\n",
       "    </tr>\n",
       "    <tr>\n",
       "      <th>4</th>\n",
       "      <td>00:26</td>\n",
       "      <td>empresa aqui gente não foi apresentado</td>\n",
       "      <td>00:00:26</td>\n",
       "    </tr>\n",
       "  </tbody>\n",
       "</table>\n",
       "</div>"
      ],
      "text/plain": [
       "    time                                    text  seconds\n",
       "0  00:00                                    e aí 00:00:00\n",
       "1  00:03                                   o som 00:00:03\n",
       "2  00:20                                      g1 00:00:20\n",
       "3  00:23    é porque nós vamos apresentar isso a 00:00:23\n",
       "4  00:26  empresa aqui gente não foi apresentado 00:00:26"
      ]
     },
     "metadata": {},
     "output_type": "display_data"
    },
    {
     "name": "stdout",
     "output_type": "stream",
     "text": [
      "<class 'pandas.core.frame.DataFrame'>\n",
      "RangeIndex: 1769 entries, 0 to 1768\n",
      "Data columns (total 3 columns):\n",
      " #   Column   Non-Null Count  Dtype          \n",
      "---  ------   --------------  -----          \n",
      " 0   time     1769 non-null   object         \n",
      " 1   text     1769 non-null   object         \n",
      " 2   seconds  1769 non-null   timedelta64[ns]\n",
      "dtypes: object(2), timedelta64[ns](1)\n",
      "memory usage: 41.6+ KB\n"
     ]
    },
    {
     "data": {
      "text/plain": [
       "None"
      ]
     },
     "metadata": {},
     "output_type": "display_data"
    },
    {
     "name": "stdout",
     "output_type": "stream",
     "text": [
      "\n",
      "Total time of trascribed audio: \n",
      "    1 hours and 54 minutes\n"
     ]
    }
   ],
   "source": [
    "display(df.head(5))\n",
    "display(df.info())\n",
    "\n",
    "print(f'''\\nTotal time of trascribed audio: \n",
    "    {df.seconds.max().components.hours} hours and {df.seconds.max().components.minutes} minutes''')"
   ]
  },
  {
   "cell_type": "markdown",
   "metadata": {},
   "source": [
    "***"
   ]
  },
  {
   "cell_type": "markdown",
   "metadata": {},
   "source": [
    "### 2. Exploring textual data\n",
    "***\n",
    "\n",
    "For this point we'll see:\n",
    "\n",
    "* Count of words (most/less freq.);\n",
    "* Count of some POS tags like:\n",
    "\n",
    "   - ADJ: adjective\n",
    "   - ADV: adverb\n",
    "   - PRON: pronoun\n",
    "   - PROPN: proper noun\n",
    "   - VERB: verb\n",
    "\n",
    "\n",
    "***"
   ]
  },
  {
   "cell_type": "code",
   "execution_count": 144,
   "metadata": {},
   "outputs": [],
   "source": [
    "#Let's use portuguese model in spyCy to transform our dataset\n",
    "\n",
    "nlp = spacy.load('pt') #loading portuguese model\n",
    "text = nlp(unidecode.unidecode(' '.join(df['text'].values))) # Transforming our dataset with spaCy model\n",
    "\n",
    "stop_words = spacy.lang.pt.stop_words.STOP_WORDS"
   ]
  },
  {
   "cell_type": "code",
   "execution_count": 229,
   "metadata": {},
   "outputs": [],
   "source": [
    "# Defining stopwords and add some custom words\n",
    "custom_stop_words = ['entao', 'la', 'gente', 'vou', 'vamos', 'ah', 'ne', 'to', '[', ']', 'Musica', 'n', \n",
    "                     'vo', 'po', 'pro', 'dia', 'hoje']\n",
    "custom_stop_words.extend([unidecode.unidecode(x) for x in stopwords.words('portuguese')])\n",
    "\n",
    "# Help functions\n",
    "def wordFreq(pos = None, words=10, custom_stopwords=True):\n",
    "    for w in custom_stop_words:\n",
    "        nlp.vocab[w].is_stop = True\n",
    "    \n",
    "    if pos != None:\n",
    "        return Counter([token.text for token in text if (not token.is_stop) and \n",
    "              (token.pos_ in pos) and (not token.is_punct)]).most_common(words)\n",
    "    else:\n",
    "        return Counter([token.text for token in text if (not token.is_stop) and \n",
    "              (not token.is_punct)]).most_common(words)"
   ]
  },
  {
   "cell_type": "markdown",
   "metadata": {},
   "source": [
    "* 10 most frequency **WORDS**: "
   ]
  },
  {
   "cell_type": "code",
   "execution_count": 217,
   "metadata": {},
   "outputs": [
    {
     "data": {
      "image/png": "[encoded data removed]",
      "text/plain": [
       "<Figure size 864x360 with 1 Axes>"
      ]
     },
     "metadata": {
      "needs_background": "light"
     },
     "output_type": "display_data"
    }
   ],
   "source": [
    "f, ax = plt.subplots(figsize=(12, 5))\n",
    "\n",
    "common_words = wordFreq()\n",
    "\n",
    "sn.barplot(x=1, y=0, data=pd.DataFrame(common_words), palette=\"ch:.25\", ax=ax)\n",
    "ax.set(xlabel='', ylabel='')\n",
    "sn.despine(left=True, bottom=True)"
   ]
  },
  {
   "cell_type": "markdown",
   "metadata": {},
   "source": [
    "* 10 most frequency **VERBS**: "
   ]
  },
  {
   "cell_type": "code",
   "execution_count": 218,
   "metadata": {},
   "outputs": [
    {
     "data": {
      "image/png": "[encoded data removed]",
      "text/plain": [
       "<Figure size 864x360 with 1 Axes>"
      ]
     },
     "metadata": {
      "needs_background": "light"
     },
     "output_type": "display_data"
    }
   ],
   "source": [
    "f, ax = plt.subplots(figsize=(12, 5))\n",
    "\n",
    "common_words = wordFreq(pos=['VERB'])\n",
    "\n",
    "sn.barplot(x=1, y=0, data=pd.DataFrame(common_words), palette=\"ch:.25\", ax=ax)\n",
    "ax.set(xlabel='', ylabel='')\n",
    "sn.despine(left=True, bottom=True)"
   ]
  },
  {
   "cell_type": "markdown",
   "metadata": {},
   "source": [
    "* 10 most frequency **ADJECTIVES**: "
   ]
  },
  {
   "cell_type": "code",
   "execution_count": 219,
   "metadata": {},
   "outputs": [
    {
     "data": {
      "image/png": "[encoded data removed]",
      "text/plain": [
       "<Figure size 864x360 with 1 Axes>"
      ]
     },
     "metadata": {
      "needs_background": "light"
     },
     "output_type": "display_data"
    }
   ],
   "source": [
    "f, ax = plt.subplots(figsize=(12, 5))\n",
    "\n",
    "common_words = wordFreq(pos=['ADJ'])\n",
    "\n",
    "sn.barplot(x=1, y=0, data=pd.DataFrame(common_words), palette=\"ch:.25\", ax=ax)\n",
    "ax.set(xlabel='', ylabel='')\n",
    "sn.despine(left=True, bottom=True)"
   ]
  },
  {
   "cell_type": "markdown",
   "metadata": {},
   "source": [
    "* 10 most frequency **ADVERB**: "
   ]
  },
  {
   "cell_type": "code",
   "execution_count": 228,
   "metadata": {},
   "outputs": [
    {
     "data": {
      "image/png": "[encoded data removed]",
      "text/plain": [
       "<Figure size 864x360 with 1 Axes>"
      ]
     },
     "metadata": {
      "needs_background": "light"
     },
     "output_type": "display_data"
    }
   ],
   "source": [
    "f, ax = plt.subplots(figsize=(12, 5))\n",
    "\n",
    "common_words = wordFreq(pos=['ADV'])\n",
    "\n",
    "sn.barplot(x=1, y=0, data=pd.DataFrame(common_words), palette=\"ch:.25\", ax=ax)\n",
    "ax.set(xlabel='', ylabel='')\n",
    "sn.despine(left=True, bottom=True)"
   ]
  },
  {
   "cell_type": "markdown",
   "metadata": {},
   "source": [
    "* 10 most frequency **NOUNS**: "
   ]
  },
  {
   "cell_type": "code",
   "execution_count": 225,
   "metadata": {},
   "outputs": [
    {
     "data": {
      "image/png": "[encoded data removed]",
      "text/plain": [
       "<Figure size 864x360 with 1 Axes>"
      ]
     },
     "metadata": {
      "needs_background": "light"
     },
     "output_type": "display_data"
    }
   ],
   "source": [
    "f, ax = plt.subplots(figsize=(12, 5))\n",
    "\n",
    "common_words = wordFreq(pos=['NOUN'], words=10)\n",
    "\n",
    "sn.barplot(x=1, y=0, data=pd.DataFrame(common_words), palette=\"ch:.25\", ax=ax)\n",
    "ax.set(xlabel='', ylabel='')\n",
    "sn.despine(left=True, bottom=True)"
   ]
  },
  {
   "cell_type": "markdown",
   "metadata": {},
   "source": [
    "* 10 most frequency **PRONOUNS**: "
   ]
  },
  {
   "cell_type": "code",
   "execution_count": 226,
   "metadata": {},
   "outputs": [
    {
     "data": {
      "image/png": "[encoded data removed]",
      "text/plain": [
       "<Figure size 864x360 with 1 Axes>"
      ]
     },
     "metadata": {
      "needs_background": "light"
     },
     "output_type": "display_data"
    }
   ],
   "source": [
    "f, ax = plt.subplots(figsize=(12, 5))\n",
    "\n",
    "common_words = wordFreq(pos=['PRON'], words=10)\n",
    "\n",
    "sn.barplot(x=1, y=0, data=pd.DataFrame(common_words), palette=\"ch:.25\", ax=ax)\n",
    "ax.set(xlabel='', ylabel='')\n",
    "sn.despine(left=True, bottom=True)"
   ]
  },
  {
   "cell_type": "markdown",
   "metadata": {},
   "source": [
    "* 10 most frequency **PROPER NOUNS**: "
   ]
  },
  {
   "cell_type": "code",
   "execution_count": 227,
   "metadata": {},
   "outputs": [
    {
     "data": {
      "image/png": "[encoded data removed]",
      "text/plain": [
       "<Figure size 864x360 with 1 Axes>"
      ]
     },
     "metadata": {
      "needs_background": "light"
     },
     "output_type": "display_data"
    }
   ],
   "source": [
    "f, ax = plt.subplots(figsize=(12, 5))\n",
    "\n",
    "common_words = wordFreq(pos=['PROPN'], words=10)\n",
    "\n",
    "sn.barplot(x=1, y=0, data=pd.DataFrame(common_words), palette=\"ch:.25\", ax=ax)\n",
    "ax.set(xlabel='', ylabel='')\n",
    "sn.despine(left=True, bottom=True)"
   ]
  }
 ],
 "metadata": {
  "kernelspec": {
   "display_name": "Python 3",
   "language": "python",
   "name": "python3"
  },
  "language_info": {
   "codemirror_mode": {
    "name": "ipython",
    "version": 3
   },
   "file_extension": ".py",
   "mimetype": "text/x-python",
   "name": "python",
   "nbconvert_exporter": "python",
   "pygments_lexer": "ipython3",
   "version": "3.8.3"
  }
 },
 "nbformat": 4,
 "nbformat_minor": 4
}
